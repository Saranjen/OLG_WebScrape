{
 "cells": [
  {
   "cell_type": "code",
   "execution_count": 84,
   "metadata": {},
   "outputs": [],
   "source": [
    "# Import necessary modules\n",
    "from bs4 import BeautifulSoup\n",
    "import requests\n",
    "import pandas as pd\n"
   ]
  },
  {
   "cell_type": "code",
   "execution_count": 85,
   "metadata": {},
   "outputs": [],
   "source": [
    "URL = \"https://about.olg.ca/winners-and-players/ticket-information/where-winning-tickets-were-sold/\"\n",
    "\n",
    "olg_webpage = requests.get(URL)\n",
    "\n",
    "soup = BeautifulSoup(olg_webpage.text, 'html.parser')"
   ]
  },
  {
   "cell_type": "code",
   "execution_count": 86,
   "metadata": {},
   "outputs": [],
   "source": [
    "def getRowName(rowData):\n",
    "    \n",
    "    name = rowData.find('td', class_=\"width-name\").span.text\n",
    "    name = name.strip()\n",
    "    \n",
    "    return name\n",
    "    "
   ]
  },
  {
   "cell_type": "code",
   "execution_count": 87,
   "metadata": {},
   "outputs": [],
   "source": [
    "def getRowAddress(rowData):\n",
    "    \n",
    "    address = rowData.find(\"td\", class_= \"width-address\").span.text\n",
    "    address = address.strip()\n",
    "    \n",
    "    return address\n",
    "    "
   ]
  },
  {
   "cell_type": "code",
   "execution_count": 88,
   "metadata": {},
   "outputs": [],
   "source": [
    "def getRowProduct(rowData):\n",
    "    \n",
    "    product = rowData.find(\"td\", class_=\"width-product\").span.text\n",
    "    product = product.strip()\n",
    "    \n",
    "    return product"
   ]
  },
  {
   "cell_type": "code",
   "execution_count": 89,
   "metadata": {},
   "outputs": [],
   "source": [
    "def getRowDrawDate(rowData):\n",
    "    \n",
    "    date = rowData.find(\"td\", class_=\"width-draw\").span.text\n",
    "    date = date.strip()\n",
    "    \n",
    "    return date"
   ]
  },
  {
   "cell_type": "code",
   "execution_count": 90,
   "metadata": {},
   "outputs": [],
   "source": [
    "def getRowValue(rowData):\n",
    "    \n",
    "    value = rowData.find(\"td\", class_=\"width-value prize\").span.text\n",
    "    value = value.strip()\n",
    "    value = value[1:].replace(\",\", \"\")\n",
    "    \n",
    "    value = float(value)\n",
    "    \n",
    "    \n",
    "    return value"
   ]
  },
  {
   "cell_type": "code",
   "execution_count": 91,
   "metadata": {},
   "outputs": [],
   "source": [
    "table_data = soup.find(\"table\", id=\"tablepaging\")\n",
    "\n",
    "table_rows= table_data.find('tbody').find_all('tr')"
   ]
  },
  {
   "cell_type": "code",
   "execution_count": 109,
   "metadata": {},
   "outputs": [],
   "source": [
    "lottoDict = {\"Store Name\":[], \"Address\": [], \"Region\": [], \"Product\":[], \"Draw Date\": [], \"Value\": []}\n",
    "\n",
    "for table_row in table_rows:\n",
    "    \n",
    "    name = getRowName(table_row)\n",
    "    address = getRowAddress(table_row)\n",
    "    product = getRowProduct(table_row)\n",
    "    date = getRowDrawDate(table_row)\n",
    "    value = getRowValue(table_row)\n",
    "    \n",
    "    lottoDict[\"Store Name\"].append(name)\n",
    "    lottoDict[\"Address\"].append(address)\n",
    "    lottoDict[\"Product\"].append(product)\n",
    "    lottoDict[\"Draw Date\"].append(date)\n",
    "    lottoDict[\"Value\"].append(value)\n",
    "    \n",
    "    region = address.split()[-1]\n",
    "    lottoDict[\"Region\"].append(region)\n",
    "        "
   ]
  },
  {
   "cell_type": "code",
   "execution_count": 114,
   "metadata": {},
   "outputs": [],
   "source": [
    "# Convert the dictionary into a csv file using pandas\n",
    "olg_df = pd.DataFrame.from_dict(lottoDict)\n",
    "olg_df.to_csv(\"olgData.csv\", header=True, index=False)"
   ]
  }
 ],
 "metadata": {
  "kernelspec": {
   "display_name": "Python 3",
   "language": "python",
   "name": "python3"
  },
  "language_info": {
   "codemirror_mode": {
    "name": "ipython",
    "version": 3
   },
   "file_extension": ".py",
   "mimetype": "text/x-python",
   "name": "python",
   "nbconvert_exporter": "python",
   "pygments_lexer": "ipython3",
   "version": "3.11.3"
  },
  "orig_nbformat": 4
 },
 "nbformat": 4,
 "nbformat_minor": 2
}
